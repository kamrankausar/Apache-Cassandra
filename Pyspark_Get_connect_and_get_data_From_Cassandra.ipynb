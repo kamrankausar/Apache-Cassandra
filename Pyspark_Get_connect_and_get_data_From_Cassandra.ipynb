{
 "cells": [
  {
   "cell_type": "raw",
   "metadata": {},
   "source": [
    "# This Notebook is doing three works\n",
    "# 1. First connect to the cassandra Database i.e create the connection object \n",
    "# 2. Get data from the Cassandar using the connection object.\n",
    "# 3. Using temp view to show the data"
   ]
  },
  {
   "cell_type": "markdown",
   "metadata": {},
   "source": [
    "# Import the required Libaries"
   ]
  },
  {
   "cell_type": "code",
   "execution_count": 2,
   "metadata": {},
   "outputs": [],
   "source": [
    "import sys\n",
    "#sys.path.insert(0, '/Exareach/DataProcessor/CampaignTemplates')\n",
    "#import db_connect\n",
    "from pyspark import SparkConf, SparkContext\n",
    "from pyspark.sql import SQLContext\n",
    "from pyspark import SparkConf, SparkContext\n",
    "from pyspark.sql import SQLContext\n",
    "from pyspark.sql.types import StructType\n",
    "from pyspark.sql.types import StructField\n",
    "from pyspark.sql.types import StringType\n",
    "import pandas as pd"
   ]
  },
  {
   "cell_type": "markdown",
   "metadata": {},
   "source": [
    "# Script to create the cassandar database object"
   ]
  },
  {
   "cell_type": "code",
   "execution_count": null,
   "metadata": {},
   "outputs": [],
   "source": [
    "def cassconnect():\n",
    "        return SparkConf().set(\"spark.cassandra.connection.host\", \"cassandar_server_ip\")\\\n",
    "    .set(\"spark.cassandra.auth.username\", \"user_name_of_cassandra_database\")\\\n",
    "    .set(\"spark.cassandra.auth.password\", \"password_of_cassandra_database\")\\\n",
    "    .setAppName(\"Name_of_the_App\").set(\"spark.sql.crossJoin.enabled\", \"true\")\\\n",
    "    .set(\"spark.driver.maxResultSize\" ,\"4g\")\\\n",
    "    .set(\"spark.rpc.netty.dispatcher.numThreads\",\"3\")\\\n",
    "    .set(\"spark.memory.fraction\",\"0.9\").set(\"spark.executor.memory\", \"2g\")\\\n"
   ]
  },
  {
   "cell_type": "markdown",
   "metadata": {},
   "source": [
    "# Create the cassandra connection object "
   ]
  },
  {
   "cell_type": "code",
   "execution_count": null,
   "metadata": {},
   "outputs": [],
   "source": [
    "conf=cassconnect()\n"
   ]
  },
  {
   "cell_type": "markdown",
   "metadata": {},
   "source": [
    "# Pass that connection object to the Spark Context as as argument"
   ]
  },
  {
   "cell_type": "code",
   "execution_count": null,
   "metadata": {},
   "outputs": [],
   "source": [
    "sc = SparkContext(conf=conf)"
   ]
  },
  {
   "cell_type": "code",
   "execution_count": null,
   "metadata": {},
   "outputs": [],
   "source": []
  },
  {
   "cell_type": "markdown",
   "metadata": {},
   "source": [
    "# sqlContext = The entry point into all relational functionality in Spark is the SQLContext class(sc)"
   ]
  },
  {
   "cell_type": "markdown",
   "metadata": {},
   "source": [
    "# Create the Cassandra object for Table1"
   ]
  },
  {
   "cell_type": "code",
   "execution_count": null,
   "metadata": {},
   "outputs": [],
   "source": [
    "cassandar_data_read_table1=sqlContext.read\\\n",
    "    .format(\"org.apache.spark.sql.cassandra\")\\\n",
    "    .options(table=\"credit_card_table\", keyspace=\"key_space_name\")\\\n",
    "    .load()"
   ]
  },
  {
   "cell_type": "markdown",
   "metadata": {},
   "source": [
    "# Creates a temporary view for Table1 using the DataFrame"
   ]
  },
  {
   "cell_type": "code",
   "execution_count": null,
   "metadata": {},
   "outputs": [],
   "source": [
    "cassandar_data_read_table1.createOrReplaceTempView(\"credit_card_table\")"
   ]
  },
  {
   "cell_type": "markdown",
   "metadata": {},
   "source": [
    "# Create the Cassandra object for Table2"
   ]
  },
  {
   "cell_type": "code",
   "execution_count": null,
   "metadata": {},
   "outputs": [],
   "source": [
    "cassandar_data_read_table2=sqlContext.read\\\n",
    "    .format(\"org.apache.spark.sql.cassandra\")\\\n",
    "    .options(table=\"contact_history_channel_table\", keyspace=\"Key_Space_Name\")\\\n",
    "    .load()"
   ]
  },
  {
   "cell_type": "markdown",
   "metadata": {},
   "source": [
    "# Creates a temporary view for Table2 using the DataFrame"
   ]
  },
  {
   "cell_type": "code",
   "execution_count": null,
   "metadata": {},
   "outputs": [],
   "source": [
    "cassandar_data_read_table2.createOrReplaceTempView(\"contact_history_channel_table\")"
   ]
  },
  {
   "cell_type": "markdown",
   "metadata": {},
   "source": [
    "# Running the SparkSQL Query"
   ]
  },
  {
   "cell_type": "code",
   "execution_count": null,
   "metadata": {},
   "outputs": [],
   "source": [
    "result = sqlContext.sql(\"select table1.c_customer_id,table1.c_employment_status,table1.c_annual_income,table1.c_gender,\\\n",
    "                        table1.c_date_of_birth,table1.c_age,table1.c_housing_status,table1.c_years_at_current_residence,\\\n",
    "                        table1.c_vintage,table1.c_vip_flag,table1.cc_updated_time,\\\n",
    "                        table2.channel from credit_card_table table1 inner join contact_history_channel_table table2\\ \n",
    "                        on table1.c_customer_id=table2.customer_id\")"
   ]
  },
  {
   "cell_type": "markdown",
   "metadata": {},
   "source": [
    "# Display the Result"
   ]
  },
  {
   "cell_type": "code",
   "execution_count": null,
   "metadata": {},
   "outputs": [],
   "source": [
    "result.show()"
   ]
  },
  {
   "cell_type": "markdown",
   "metadata": {},
   "source": [
    "# Convert the Pyspark Data Frame into Pandas Data Frame"
   ]
  },
  {
   "cell_type": "code",
   "execution_count": null,
   "metadata": {},
   "outputs": [],
   "source": [
    "print(\"\\n\")\n",
    "print(type(result))\n",
    "print(\"\\n\")\n",
    "pandas_df = result.toPandas()\n",
    "print(\"\\n\")\n",
    "print(len(pandas_df.index))\n",
    "print(\"\\n\")\n",
    "#print(pandas_df.describe())\n",
    "print(pandas_df)"
   ]
  }
 ],
 "metadata": {
  "kernelspec": {
   "display_name": "Python 3",
   "language": "python",
   "name": "python3"
  },
  "language_info": {
   "codemirror_mode": {
    "name": "ipython",
    "version": 3
   },
   "file_extension": ".py",
   "mimetype": "text/x-python",
   "name": "python",
   "nbconvert_exporter": "python",
   "pygments_lexer": "ipython3",
   "version": "3.6.5"
  }
 },
 "nbformat": 4,
 "nbformat_minor": 2
}
