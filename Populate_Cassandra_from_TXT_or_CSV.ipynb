{
 "cells": [
  {
   "cell_type": "markdown",
   "metadata": {},
   "source": [
    "# Populate Cassandra with CSV"
   ]
  },
  {
   "cell_type": "markdown",
   "metadata": {},
   "source": [
    "1. First run the cql and create the table as same as the schema in the csv file\n",
    "2. Create the table -\n",
    "command - CREATE TABLE table_name(id int, email text, name text, phone int, primary key(id));\n",
    "\n",
    "3. Show the content of the table\n",
    "SELECT * FROM table_name;\n",
    "\n",
    "4. Copying the data from CSV\n",
    "command- COPY table_name FROM 'location_of_the_file.csv' WITH DELIMITER = ',';\n"
   ]
  },
  {
   "cell_type": "code",
   "execution_count": null,
   "metadata": {
    "collapsed": true
   },
   "outputs": [],
   "source": []
  }
 ],
 "metadata": {
  "anaconda-cloud": {},
  "kernelspec": {
   "display_name": "Python [default]",
   "language": "python",
   "name": "python3"
  },
  "language_info": {
   "codemirror_mode": {
    "name": "ipython",
    "version": 3
   },
   "file_extension": ".py",
   "mimetype": "text/x-python",
   "name": "python",
   "nbconvert_exporter": "python",
   "pygments_lexer": "ipython3",
   "version": "3.5.2"
  }
 },
 "nbformat": 4,
 "nbformat_minor": 1
}
