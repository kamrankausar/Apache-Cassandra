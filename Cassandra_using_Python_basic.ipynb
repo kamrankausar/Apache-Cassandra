{
 "cells": [
  {
   "cell_type": "code",
   "execution_count": null,
   "metadata": {
    "collapsed": true
   },
   "outputs": [],
   "source": [
    "# Go to cassandra prompt, where are you (Gnome-termonal)\n",
    "cqlsh\n"
   ]
  },
  {
   "cell_type": "code",
   "execution_count": null,
   "metadata": {
    "collapsed": true
   },
   "outputs": [],
   "source": [
    "# Show all the Keyspaces(Data Bases)\n",
    "describe keyspaces;"
   ]
  },
  {
   "cell_type": "code",
   "execution_count": null,
   "metadata": {
    "collapsed": true
   },
   "outputs": [],
   "source": [
    "# Select some keyspaces\n",
    "use key_space_name;"
   ]
  },
  {
   "cell_type": "code",
   "execution_count": null,
   "metadata": {
    "collapsed": true
   },
   "outputs": [],
   "source": [
    "# To get some details of the keyspace\n",
    "describe key_space_name; # more details\n"
   ]
  },
  {
   "cell_type": "code",
   "execution_count": null,
   "metadata": {
    "collapsed": true
   },
   "outputs": [],
   "source": [
    "#Select the Keyspace\n",
    "use Key_Space_name"
   ]
  },
  {
   "cell_type": "code",
   "execution_count": null,
   "metadata": {
    "collapsed": true
   },
   "outputs": [],
   "source": [
    "# Show list of tables in the Key_spaces(table)\n",
    "describe tables;"
   ]
  },
  {
   "cell_type": "code",
   "execution_count": null,
   "metadata": {
    "collapsed": true
   },
   "outputs": [],
   "source": [
    "# How to create the KEYSPACE\n",
    "CREATE KEYSPACE Key_space_name WITH repication = {'class' : 'SimpleStrategy', 'replication_factor':1}"
   ]
  },
  {
   "cell_type": "code",
   "execution_count": null,
   "metadata": {
    "collapsed": true
   },
   "outputs": [],
   "source": [
    "# Use that keyspace  iris\n",
    "use demo\n",
    "# Create the table in the iris DB\n",
    "CREATE TABLE iris(\n",
    "l1 float,\n",
    "l2 float,\n",
    "w1 float,\n",
    "w2 float,\n",
    "class_type text,\n",
    "PRIMARY KEY (class_type)):"
   ]
  },
  {
   "cell_type": "code",
   "execution_count": null,
   "metadata": {
    "collapsed": true
   },
   "outputs": [],
   "source": [
    "# Fill the table iris from the csv file\n",
    "COPY iris FROM 'iris.csv' WITH HEADER = true;"
   ]
  },
  {
   "cell_type": "code",
   "execution_count": null,
   "metadata": {
    "collapsed": true
   },
   "outputs": [],
   "source": [
    "# See 5  data records\n",
    "SELECT * FROM iris LIMIT 5;\n"
   ]
  },
  {
   "cell_type": "code",
   "execution_count": 6,
   "metadata": {},
   "outputs": [],
   "source": [
    "# First install Cassandra Python Driver i.e !pip install cassandra-driver then Import Cassandar module\n",
    "from cassandra.cluster import Cluster"
   ]
  },
  {
   "cell_type": "code",
   "execution_count": 7,
   "metadata": {
    "collapsed": true
   },
   "outputs": [],
   "source": [
    "# Create the object of the Class Cluster\n",
    "cluster = Cluster()\n"
   ]
  },
  {
   "cell_type": "code",
   "execution_count": 8,
   "metadata": {
    "collapsed": true
   },
   "outputs": [],
   "source": [
    "# select the keyspace\n",
    "keyspace = 'demo'\n",
    "connection = cluster.connect(keyspace)"
   ]
  },
  {
   "cell_type": "code",
   "execution_count": 26,
   "metadata": {
    "collapsed": true
   },
   "outputs": [],
   "source": [
    "# get some data\n",
    "some_data = connection.execute('select * from sub limit 5')"
   ]
  },
  {
   "cell_type": "code",
   "execution_count": 19,
   "metadata": {},
   "outputs": [],
   "source": [
    "# Display some data\n",
    "for row in some_data:\n",
    "    print(row)"
   ]
  },
  {
   "cell_type": "code",
   "execution_count": 27,
   "metadata": {},
   "outputs": [
    {
     "name": "stdout",
     "output_type": "stream",
     "text": [
      "Test_Id 302602, and Its OrderId 26.7380008698\n",
      "Test_Id 531141, and Its OrderId 26.7380008698\n",
      "Test_Id 693077, and Its OrderId 26.7380008698\n",
      "Test_Id 4317, and Its OrderId 26.7380008698\n",
      "Test_Id 313395, and Its OrderId 26.7380008698\n"
     ]
    }
   ],
   "source": [
    "for row in some_data:\n",
    "    print('Test_Id {0}, and Its OrderId {1}'.format(row.test_id, row.price))"
   ]
  },
  {
   "cell_type": "code",
   "execution_count": 20,
   "metadata": {},
   "outputs": [],
   "source": [
    "for row in some_data:\n",
    "    print('Test_Id %d, and Its price %s' % (row.test_id, row.price))"
   ]
  },
  {
   "cell_type": "code",
   "execution_count": 29,
   "metadata": {},
   "outputs": [],
   "source": [
    "output = connection.execute('select * from sub where test_id = 4317')"
   ]
  },
  {
   "cell_type": "code",
   "execution_count": 36,
   "metadata": {},
   "outputs": [
    {
     "name": "stdout",
     "output_type": "stream",
     "text": [
      "The order id 4317 has the price 26.7380008698\n"
     ]
    }
   ],
   "source": [
    "print(\"The order id {0} has the price {1}\".format( output[0][0],output[0][1]))"
   ]
  },
  {
   "cell_type": "code",
   "execution_count": null,
   "metadata": {
    "collapsed": true
   },
   "outputs": [],
   "source": []
  }
 ],
 "metadata": {
  "kernelspec": {
   "display_name": "Python 3",
   "language": "python",
   "name": "python3"
  },
  "language_info": {
   "codemirror_mode": {
    "name": "ipython",
    "version": 2
   },
   "file_extension": ".py",
   "mimetype": "text/x-python",
   "name": "python",
   "nbconvert_exporter": "python",
   "pygments_lexer": "ipython2",
   "version": "2.7.12"
  }
 },
 "nbformat": 4,
 "nbformat_minor": 2
}
