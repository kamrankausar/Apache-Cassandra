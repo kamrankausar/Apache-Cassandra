{
 "cells": [
  {
   "cell_type": "code",
   "execution_count": 77,
   "metadata": {},
   "outputs": [],
   "source": [
    "# Import Library\n",
    "import pandas as pd\n",
    "from cassandra.cluster import Cluster\n",
    "from cassandra.auth import PlainTextAuthProvider\n",
    "from cassandra.query import dict_factory\n",
    "from cassandra.cluster import Cluster"
   ]
  },
  {
   "cell_type": "code",
   "execution_count": 69,
   "metadata": {
    "collapsed": true
   },
   "outputs": [],
   "source": [
    "cluster = Cluster(['Server_IP_Address'])"
   ]
  },
  {
   "cell_type": "code",
   "execution_count": 65,
   "metadata": {},
   "outputs": [],
   "source": [
    "#session = cluster.connect()"
   ]
  },
  {
   "cell_type": "code",
   "execution_count": null,
   "metadata": {
    "collapsed": true
   },
   "outputs": [],
   "source": [
    "auth_provider = PlainTextAuthProvider(username=xxxx, password=xxxxx)\n",
    "cluster = Cluster(contact_points=[CASSANDRA_HOST], port=CASSANDRA_PORT,\n",
    "    auth_provider=auth_provider)"
   ]
  },
  {
   "cell_type": "code",
   "execution_count": 83,
   "metadata": {},
   "outputs": [
    {
     "ename": "TypeError",
     "evalue": "__init__() got an unexpected keyword argument 'time'",
     "output_type": "error",
     "traceback": [
      "\u001b[0;31m---------------------------------------------------------------------------\u001b[0m",
      "\u001b[0;31mTypeError\u001b[0m                                 Traceback (most recent call last)",
      "\u001b[0;32m<ipython-input-83-4e74e434d510>\u001b[0m in \u001b[0;36m<module>\u001b[0;34m()\u001b[0m\n\u001b[1;32m      1\u001b[0m \u001b[0mauth_provider\u001b[0m \u001b[0;34m=\u001b[0m \u001b[0mPlainTextAuthProvider\u001b[0m\u001b[0;34m(\u001b[0m\u001b[0musername\u001b[0m\u001b[0;34m=\u001b[0m\u001b[0;34m'cassandra'\u001b[0m\u001b[0;34m,\u001b[0m \u001b[0mpassword\u001b[0m\u001b[0;34m=\u001b[0m\u001b[0;34m'cassandra'\u001b[0m\u001b[0;34m)\u001b[0m\u001b[0;34m\u001b[0m\u001b[0m\n\u001b[1;32m      2\u001b[0m cluster = Cluster(contact_points=['138.68.253.133'], port=9042, time = False,\n\u001b[0;32m----> 3\u001b[0;31m     auth_provider=auth_provider)\n\u001b[0m",
      "\u001b[0;32m/usr/local/lib/python2.7/dist-packages/cassandra/cluster.so\u001b[0m in \u001b[0;36mcassandra.cluster.Cluster.__init__ (cassandra/cluster.c:10935)\u001b[0;34m()\u001b[0m\n",
      "\u001b[0;31mTypeError\u001b[0m: __init__() got an unexpected keyword argument 'time'"
     ]
    }
   ],
   "source": [
    "auth_provider = PlainTextAuthProvider(username='xxxx', password='xxxx')\n",
    "cluster = Cluster(contact_points=['server_Ip_address'], port=9042, time = False,\n",
    "    auth_provider=auth_provider)"
   ]
  },
  {
   "cell_type": "code",
   "execution_count": 79,
   "metadata": {},
   "outputs": [
    {
     "ename": "NoHostAvailable",
     "evalue": "('Unable to connect to any servers', {'Server_Ip_address': OperationTimedOut('errors=None, last_host=None',)})",
     "output_type": "error",
     "traceback": [
      "\u001b[0;31m---------------------------------------------------------------------------\u001b[0m",
      "\u001b[0;31mNoHostAvailable\u001b[0m                           Traceback (most recent call last)",
      "\u001b[0;32m<ipython-input-79-f4d7dd3ec94f>\u001b[0m in \u001b[0;36m<module>\u001b[0;34m()\u001b[0m\n\u001b[0;32m----> 1\u001b[0;31m \u001b[0msession\u001b[0m \u001b[0;34m=\u001b[0m \u001b[0mcluster\u001b[0m\u001b[0;34m.\u001b[0m\u001b[0mconnect\u001b[0m\u001b[0;34m(\u001b[0m\u001b[0;34m'cvm'\u001b[0m\u001b[0;34m)\u001b[0m\u001b[0;34m\u001b[0m\u001b[0m\n\u001b[0m",
      "\u001b[0;32m/usr/local/lib/python2.7/dist-packages/cassandra/cluster.so\u001b[0m in \u001b[0;36mcassandra.cluster.Cluster.connect (cassandra/cluster.c:18949)\u001b[0;34m()\u001b[0m\n",
      "\u001b[0;32m/usr/local/lib/python2.7/dist-packages/cassandra/cluster.so\u001b[0m in \u001b[0;36mcassandra.cluster.Cluster.connect (cassandra/cluster.c:18738)\u001b[0;34m()\u001b[0m\n",
      "\u001b[0;32m/usr/local/lib/python2.7/dist-packages/cassandra/cluster.so\u001b[0m in \u001b[0;36mcassandra.cluster.Cluster.connect (cassandra/cluster.c:18405)\u001b[0;34m()\u001b[0m\n",
      "\u001b[0;32m/usr/local/lib/python2.7/dist-packages/cassandra/cluster.so\u001b[0m in \u001b[0;36mcassandra.cluster.ControlConnection.connect (cassandra/cluster.c:52211)\u001b[0;34m()\u001b[0m\n",
      "\u001b[0;32m/usr/local/lib/python2.7/dist-packages/cassandra/cluster.so\u001b[0m in \u001b[0;36mcassandra.cluster.ControlConnection._reconnect_internal (cassandra/cluster.c:53182)\u001b[0;34m()\u001b[0m\n",
      "\u001b[0;31mNoHostAvailable\u001b[0m: ('Unable to connect to any servers', {'138.68.253.133': OperationTimedOut('errors=None, last_host=None',)})"
     ]
    }
   ],
   "source": [
    "session = cluster.connect('cvm')"
   ]
  },
  {
   "cell_type": "code",
   "execution_count": null,
   "metadata": {
    "collapsed": true
   },
   "outputs": [],
   "source": [
    "session = cluster.connect(CASSANDRA_DB)\n",
    "session.row_factory = dict_factory\n",
    "\n",
    "sql_query = \"SELECT * FROM {}.{};\".format(CASSANDRA_DB, CASSANDRA_TABLE)\n",
    "\n",
    "df = pd.DataFrame()\n",
    "\n",
    "for row in session.execute(sql_query):\n",
    "    df = df.append(pd.DataFrame(row, index=[0]))\n",
    "\n",
    "df = df.reset_index(drop=True).fillna(pd.np.nan)"
   ]
  },
  {
   "cell_type": "code",
   "execution_count": null,
   "metadata": {
    "collapsed": true
   },
   "outputs": [],
   "source": [
    "def pandas_factory(colnames, rows):\n",
    "    return pd.DataFrame(rows, columns=colnames)\n",
    "\n",
    "session.row_factory = pandas_factory\n",
    "session.default_fetch_size = None\n",
    "\n",
    "query = \"SELECT ...\"\n",
    "rslt = session.execute(query, timeout=None)\n",
    "df = rslt._current_rows"
   ]
  }
 ],
 "metadata": {
  "kernelspec": {
   "display_name": "Python 2",
   "language": "python",
   "name": "python2"
  },
  "language_info": {
   "codemirror_mode": {
    "name": "ipython",
    "version": 2
   },
   "file_extension": ".py",
   "mimetype": "text/x-python",
   "name": "python",
   "nbconvert_exporter": "python",
   "pygments_lexer": "ipython2",
   "version": "2.7.12"
  }
 },
 "nbformat": 4,
 "nbformat_minor": 2
}
